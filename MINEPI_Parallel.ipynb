{
 "cells": [
  {
   "cell_type": "code",
   "execution_count": 1,
   "metadata": {},
   "outputs": [],
   "source": [
    "from numpy import *\n",
    "from itertools import combinations, permutations"
   ]
  },
  {
   "cell_type": "code",
   "execution_count": 2,
   "metadata": {},
   "outputs": [],
   "source": [
    "sequence = sorted([\n",
    "    (31, 'E'), (32, 'D'), (33, 'F'), (35, 'A'), (37, 'B'), (38, 'C'), (39, 'E'),\n",
    "    (40, 'F'), (42, 'C'), (44, 'D'), (46, 'B'), (47, 'A'), (48, 'D'), (50, 'C'),\n",
    "    (53, 'E'), (54, 'F'), (55, 'C'), (57, 'B'), (58, 'E'), (59, 'A'), (60, 'E'),\n",
    "    (61, 'C'), (62, 'F'), (65, 'A'), (67, 'D'),\n",
    "], key=lambda x:x[0])"
   ]
  },
  {
   "cell_type": "code",
   "execution_count": 3,
   "metadata": {},
   "outputs": [],
   "source": [
    "def createC1(sequence, step):\n",
    "    C1 = {}\n",
    "    for event in sequence:\n",
    "        mo = tuple((event[0], event[0] + step)) # calc minimal occurrence (mo)\n",
    "        evt1 = tuple(event[1])\n",
    "        if evt1 in C1: # if event exists in C1\n",
    "            if mo not in C1[evt1]: # if mo not exists in event's set of mo\n",
    "                C1[evt1].add(mo)\n",
    "        else: C1[evt1] = set((mo,))\n",
    "    return C1"
   ]
  },
  {
   "cell_type": "code",
   "execution_count": 4,
   "metadata": {},
   "outputs": [
    {
     "data": {
      "text/plain": [
       "{('E',): {(31, 32), (39, 40), (53, 54), (58, 59), (60, 61)},\n",
       " ('D',): {(32, 33), (44, 45), (48, 49), (67, 68)},\n",
       " ('F',): {(33, 34), (40, 41), (54, 55), (62, 63)},\n",
       " ('A',): {(35, 36), (47, 48), (59, 60), (65, 66)},\n",
       " ('B',): {(37, 38), (46, 47), (57, 58)},\n",
       " ('C',): {(38, 39), (42, 43), (50, 51), (55, 56), (61, 62)}}"
      ]
     },
     "execution_count": 4,
     "metadata": {},
     "output_type": "execute_result"
    }
   ],
   "source": [
    "C1 = createC1(sequence, 1)\n",
    "C1"
   ]
  },
  {
   "cell_type": "code",
   "execution_count": 5,
   "metadata": {},
   "outputs": [],
   "source": [
    "def createLargeEpisodeSet(Ck, min_fr):\n",
    "    Lk = Ck.copy()\n",
    "    for episode in Ck:\n",
    "        if len(Ck[episode]) < min_fr: # if number of mo < min_fr\n",
    "            del Lk[episode]\n",
    "    return Lk"
   ]
  },
  {
   "cell_type": "code",
   "execution_count": 6,
   "metadata": {},
   "outputs": [
    {
     "data": {
      "text/plain": [
       "{('E',): {(31, 32), (39, 40), (53, 54), (58, 59), (60, 61)},\n",
       " ('D',): {(32, 33), (44, 45), (48, 49), (67, 68)},\n",
       " ('F',): {(33, 34), (40, 41), (54, 55), (62, 63)},\n",
       " ('A',): {(35, 36), (47, 48), (59, 60), (65, 66)},\n",
       " ('B',): {(37, 38), (46, 47), (57, 58)},\n",
       " ('C',): {(38, 39), (42, 43), (50, 51), (55, 56), (61, 62)}}"
      ]
     },
     "execution_count": 6,
     "metadata": {},
     "output_type": "execute_result"
    }
   ],
   "source": [
    "L1 = createLargeEpisodeSet(C1, 2)\n",
    "L1"
   ]
  },
  {
   "cell_type": "code",
   "execution_count": 7,
   "metadata": {},
   "outputs": [],
   "source": [
    "def checkSubsetFrequency(candidate, Lk, k):\n",
    "    if k > 1:    \n",
    "        subsets = list(combinations(candidate, k))\n",
    "    else:\n",
    "        return True\n",
    "    for elem in subsets:\n",
    "        if not elem in Lk: #elem is tuple\n",
    "            return False\n",
    "    return True"
   ]
  },
  {
   "cell_type": "code",
   "execution_count": 8,
   "metadata": {},
   "outputs": [],
   "source": [
    "def createCandidates(Lk, L1, k, max_width):\n",
    "    # create candidates list\n",
    "    candidatesK = [] #candidates list\n",
    "    generatedCans = [] \n",
    "    lkKeys = sorted(set([item for t in Lk for item in t])) # get all episodes and sort / Lk:get all keys\n",
    "    generatedCans = list(combinations(lkKeys, k))\n",
    "    for can in generatedCans:\n",
    "        if checkSubsetFrequency(can, Lk, k-1): #if all subsets of can is frequent / Lk:get all keys\n",
    "            candidatesK.append(can)\n",
    "    # create minimal occurrence of candidates\n",
    "    if len(candidatesK) == 0: # if candidates list is null\n",
    "        return dict()\n",
    "    else:\n",
    "        Ck = {}\n",
    "        if k == 2: #candidate 2\n",
    "            for can in candidatesK: # can is tuple\n",
    "                Ck[can] = set()\n",
    "                for mok in Lk[tuple(can[0])]:\n",
    "                    for mo1 in L1[tuple(can[1])]:\n",
    "                        tsmin = min(mok[0], mo1[0])\n",
    "                        temax = max(mok[1], mo1[1])\n",
    "                        # temax - tsmin <= max_width\n",
    "                        if temax - tsmin <= max_width:\n",
    "                            Ck[can].add(tuple((tsmin, temax)))\n",
    "        else: #candidate > 2\n",
    "            for can in candidatesK: # can is tuple\n",
    "                Ck[can] = set()\n",
    "                for mok in Lk[can[:-1]]:\n",
    "                    for mo1 in L1[tuple(can[-1])]:\n",
    "                        tsmin = min(mok[0], mo1[0])\n",
    "                        temax = max(mok[1], mo1[1])\n",
    "                        # temax - tsmin <= max_width\n",
    "                        if temax - tsmin <= max_width:\n",
    "                            Ck[can].add(tuple((tsmin, temax)))\n",
    "        # recheck minimal occurrence is minimal\n",
    "        for episode, setOfMOs in Ck.items():\n",
    "            rem = set() #remove set\n",
    "            for mo1 in setOfMOs:\n",
    "                for mo2 in setOfMOs.difference(mo1):\n",
    "                    # mo1[0] is mo1.ts, mo2[0] is mo2.ts, mo1[1] is mo1.te, mo2[1] is mo2.te\n",
    "                    if (mo1[0]==mo2[0] and mo1[1] < mo2[1]) or (mo1[0] > mo2[0] and mo1[1] == mo2[1]) or (mo1[0] > mo2[0] and mo1[1] < mo2[1]):\n",
    "                        rem.add(mo2)\n",
    "            Ck[episode] = setOfMOs.difference(rem)\n",
    "        return Ck"
   ]
  },
  {
   "cell_type": "code",
   "execution_count": 9,
   "metadata": {},
   "outputs": [
    {
     "data": {
      "text/plain": [
       "{('A', 'B'): {(35, 38), (46, 48), (57, 60)},\n",
       " ('A', 'C'): {(35, 39), (47, 51), (55, 60), (59, 62), (61, 66)},\n",
       " ('A', 'D'): {(32, 36), (44, 48), (47, 49), (65, 68)},\n",
       " ('A', 'E'): {(31, 36), (35, 40), (58, 60), (59, 61)},\n",
       " ('A', 'F'): {(33, 36), (59, 63), (62, 66)},\n",
       " ('B', 'C'): {(37, 39), (42, 47), (46, 51), (55, 58), (57, 62)},\n",
       " ('B', 'D'): {(44, 47), (46, 49)},\n",
       " ('B', 'E'): {(37, 40), (53, 58), (57, 59)},\n",
       " ('B', 'F'): {(33, 38), (37, 41), (54, 58)},\n",
       " ('C', 'D'): {(42, 45), (48, 51)},\n",
       " ('C', 'E'): {(38, 40), (39, 43), (50, 54), (53, 56), (55, 59), (60, 62)},\n",
       " ('C', 'F'): {(38, 41), (40, 43), (50, 55), (54, 56), (61, 63)},\n",
       " ('D', 'E'): {(31, 33)},\n",
       " ('D', 'F'): {(32, 34), (40, 45)},\n",
       " ('E', 'F'): {(31, 34), (39, 41), (53, 55), (54, 59), (60, 63)}}"
      ]
     },
     "execution_count": 9,
     "metadata": {},
     "output_type": "execute_result"
    }
   ],
   "source": [
    "C2 = createCandidates(L1, L1, 2, 5)\n",
    "C2"
   ]
  },
  {
   "cell_type": "code",
   "execution_count": 10,
   "metadata": {
    "scrolled": true
   },
   "outputs": [
    {
     "data": {
      "text/plain": [
       "{('A', 'B'): {(35, 38), (46, 48), (57, 60)},\n",
       " ('A', 'C'): {(35, 39), (47, 51), (55, 60), (59, 62), (61, 66)},\n",
       " ('A', 'D'): {(32, 36), (44, 48), (47, 49), (65, 68)},\n",
       " ('A', 'E'): {(31, 36), (35, 40), (58, 60), (59, 61)},\n",
       " ('A', 'F'): {(33, 36), (59, 63), (62, 66)},\n",
       " ('B', 'C'): {(37, 39), (42, 47), (46, 51), (55, 58), (57, 62)},\n",
       " ('B', 'D'): {(44, 47), (46, 49)},\n",
       " ('B', 'E'): {(37, 40), (53, 58), (57, 59)},\n",
       " ('B', 'F'): {(33, 38), (37, 41), (54, 58)},\n",
       " ('C', 'D'): {(42, 45), (48, 51)},\n",
       " ('C', 'E'): {(38, 40), (39, 43), (50, 54), (53, 56), (55, 59), (60, 62)},\n",
       " ('C', 'F'): {(38, 41), (40, 43), (50, 55), (54, 56), (61, 63)},\n",
       " ('D', 'F'): {(32, 34), (40, 45)},\n",
       " ('E', 'F'): {(31, 34), (39, 41), (53, 55), (54, 59), (60, 63)}}"
      ]
     },
     "execution_count": 10,
     "metadata": {},
     "output_type": "execute_result"
    }
   ],
   "source": [
    "L2 = createLargeEpisodeSet(C2, 2)\n",
    "L2"
   ]
  },
  {
   "cell_type": "code",
   "execution_count": 11,
   "metadata": {},
   "outputs": [
    {
     "data": {
      "text/plain": [
       "{('A', 'B', 'C'): {(35, 39), (46, 51), (55, 60), (57, 62)},\n",
       " ('A', 'B', 'D'): {(44, 48), (46, 49)},\n",
       " ('A', 'B', 'E'): {(35, 40), (57, 60)},\n",
       " ('A', 'B', 'F'): {(33, 38)},\n",
       " ('A', 'C', 'D'): {(47, 51)},\n",
       " ('A', 'C', 'E'): {(35, 40), (55, 60), (59, 62)},\n",
       " ('A', 'C', 'F'): {(59, 63), (61, 66)},\n",
       " ('A', 'D', 'F'): {(32, 36)},\n",
       " ('A', 'E', 'F'): {(31, 36), (59, 63)},\n",
       " ('B', 'C', 'D'): {(42, 47), (46, 51)},\n",
       " ('B', 'C', 'E'): {(37, 40), (53, 58), (55, 59), (57, 62)},\n",
       " ('B', 'C', 'F'): {(37, 41), (54, 58)},\n",
       " ('B', 'D', 'F'): set(),\n",
       " ('B', 'E', 'F'): {(37, 41), (53, 58), (54, 59)},\n",
       " ('C', 'D', 'F'): {(40, 45)},\n",
       " ('C', 'E', 'F'): {(38, 41), (39, 43), (50, 55), (53, 56), (54, 59), (60, 63)}}"
      ]
     },
     "execution_count": 11,
     "metadata": {},
     "output_type": "execute_result"
    }
   ],
   "source": [
    "C3 = createCandidates(L2, L1, 3, 5)\n",
    "C3"
   ]
  },
  {
   "cell_type": "code",
   "execution_count": 12,
   "metadata": {},
   "outputs": [
    {
     "data": {
      "text/plain": [
       "{('A', 'B', 'C'): {(35, 39), (46, 51), (55, 60), (57, 62)},\n",
       " ('A', 'B', 'D'): {(44, 48), (46, 49)},\n",
       " ('A', 'B', 'E'): {(35, 40), (57, 60)},\n",
       " ('A', 'C', 'E'): {(35, 40), (55, 60), (59, 62)},\n",
       " ('A', 'C', 'F'): {(59, 63), (61, 66)},\n",
       " ('A', 'E', 'F'): {(31, 36), (59, 63)},\n",
       " ('B', 'C', 'D'): {(42, 47), (46, 51)},\n",
       " ('B', 'C', 'E'): {(37, 40), (53, 58), (55, 59), (57, 62)},\n",
       " ('B', 'C', 'F'): {(37, 41), (54, 58)},\n",
       " ('B', 'E', 'F'): {(37, 41), (53, 58), (54, 59)},\n",
       " ('C', 'E', 'F'): {(38, 41), (39, 43), (50, 55), (53, 56), (54, 59), (60, 63)}}"
      ]
     },
     "execution_count": 12,
     "metadata": {},
     "output_type": "execute_result"
    }
   ],
   "source": [
    "L3 = createLargeEpisodeSet(C3, 2)\n",
    "L3"
   ]
  },
  {
   "cell_type": "code",
   "execution_count": 13,
   "metadata": {},
   "outputs": [
    {
     "data": {
      "text/plain": [
       "{('A', 'B', 'C', 'E'): {(35, 40), (55, 60), (57, 62)},\n",
       " ('A', 'C', 'E', 'F'): {(59, 63)},\n",
       " ('B', 'C', 'E', 'F'): {(37, 41), (53, 58), (54, 59)}}"
      ]
     },
     "execution_count": 13,
     "metadata": {},
     "output_type": "execute_result"
    }
   ],
   "source": [
    "C4 = createCandidates(L3, L1, 4, 5)\n",
    "C4"
   ]
  },
  {
   "cell_type": "code",
   "execution_count": 14,
   "metadata": {},
   "outputs": [],
   "source": [
    "def MinEpi(sequence, max_width, step, minFrequent):\n",
    "    C1 = createC1(sequence, step)\n",
    "    L1 = createLargeEpisodeSet(C1, minFrequent)\n",
    "    L = [L1]\n",
    "    k = 2\n",
    "    while (len(L[k-2]) > 0):\n",
    "        Ck = createCandidates(L[k-2], L1, k, max_width)\n",
    "        Lk = createLargeEpisodeSet(Ck, minFrequent)\n",
    "        L.append(Lk)\n",
    "        k += 1\n",
    "    #remove empty last itemset from L\n",
    "    if L[-1] == {}:\n",
    "        L.pop()\n",
    "    return L"
   ]
  },
  {
   "cell_type": "code",
   "execution_count": 15,
   "metadata": {},
   "outputs": [
    {
     "data": {
      "text/plain": [
       "[{('E',): {(31, 32), (39, 40), (53, 54), (58, 59), (60, 61)},\n",
       "  ('D',): {(32, 33), (44, 45), (48, 49), (67, 68)},\n",
       "  ('F',): {(33, 34), (40, 41), (54, 55), (62, 63)},\n",
       "  ('A',): {(35, 36), (47, 48), (59, 60), (65, 66)},\n",
       "  ('B',): {(37, 38), (46, 47), (57, 58)},\n",
       "  ('C',): {(38, 39), (42, 43), (50, 51), (55, 56), (61, 62)}},\n",
       " {('A', 'B'): {(35, 38), (46, 48), (57, 60)},\n",
       "  ('A', 'C'): {(35, 39), (47, 51), (55, 60), (59, 62), (61, 66)},\n",
       "  ('A', 'D'): {(32, 36), (44, 48), (47, 49), (65, 68)},\n",
       "  ('A', 'E'): {(31, 36), (35, 40), (58, 60), (59, 61)},\n",
       "  ('A', 'F'): {(33, 36), (59, 63), (62, 66)},\n",
       "  ('B', 'C'): {(37, 39), (42, 47), (46, 51), (55, 58), (57, 62)},\n",
       "  ('B', 'D'): {(44, 47), (46, 49)},\n",
       "  ('B', 'E'): {(37, 40), (53, 58), (57, 59)},\n",
       "  ('B', 'F'): {(33, 38), (37, 41), (54, 58)},\n",
       "  ('C', 'D'): {(42, 45), (48, 51)},\n",
       "  ('C', 'E'): {(38, 40), (39, 43), (50, 54), (53, 56), (55, 59), (60, 62)},\n",
       "  ('C', 'F'): {(38, 41), (40, 43), (50, 55), (54, 56), (61, 63)},\n",
       "  ('D', 'F'): {(32, 34), (40, 45)},\n",
       "  ('E', 'F'): {(31, 34), (39, 41), (53, 55), (54, 59), (60, 63)}},\n",
       " {('A', 'B', 'C'): {(35, 39), (46, 51), (55, 60), (57, 62)},\n",
       "  ('A', 'B', 'D'): {(44, 48), (46, 49)},\n",
       "  ('A', 'B', 'E'): {(35, 40), (57, 60)},\n",
       "  ('A', 'C', 'E'): {(35, 40), (55, 60), (59, 62)},\n",
       "  ('A', 'C', 'F'): {(59, 63), (61, 66)},\n",
       "  ('A', 'E', 'F'): {(31, 36), (59, 63)},\n",
       "  ('B', 'C', 'D'): {(42, 47), (46, 51)},\n",
       "  ('B', 'C', 'E'): {(37, 40), (53, 58), (55, 59), (57, 62)},\n",
       "  ('B', 'C', 'F'): {(37, 41), (54, 58)},\n",
       "  ('B', 'E', 'F'): {(37, 41), (53, 58), (54, 59)},\n",
       "  ('C', 'E', 'F'): {(38, 41),\n",
       "   (39, 43),\n",
       "   (50, 55),\n",
       "   (53, 56),\n",
       "   (54, 59),\n",
       "   (60, 63)}},\n",
       " {('A', 'B', 'C', 'E'): {(35, 40), (55, 60), (57, 62)},\n",
       "  ('B', 'C', 'E', 'F'): {(37, 41), (53, 58), (54, 59)}}]"
      ]
     },
     "execution_count": 15,
     "metadata": {},
     "output_type": "execute_result"
    }
   ],
   "source": [
    "L = MinEpi(sequence, max_width=5, step=1, minFrequent=2)\n",
    "L"
   ]
  },
  {
   "cell_type": "code",
   "execution_count": 16,
   "metadata": {},
   "outputs": [],
   "source": [
    "def isAlphaOccurInBeta(mob, mos_alpha): #mo_beta include (mo_beta_ts) and (mo_beta_ts + width2)\n",
    "    for moa in mos_alpha:\n",
    "        if mob[0] <= moa[0] and moa[1] <= mob[1]:\n",
    "            return True\n",
    "    return False"
   ]
  },
  {
   "cell_type": "code",
   "execution_count": 17,
   "metadata": {},
   "outputs": [],
   "source": [
    "def calcConfidence(mos_beta, wid1, mos_alpha, wid2):\n",
    "    denominator = 0.0\n",
    "    numerator = 0\n",
    "    for mob in mos_beta:\n",
    "        #te - ts <= width1\n",
    "        if mob[1] - mob[0] <= wid1:\n",
    "            denominator += 1\n",
    "            #number of mo_beta [mob.ts, mob.ts + wid2) contains mo_alpha is numerator\n",
    "            if isAlphaOccurInBeta((mob[0], mob[0] + wid2), mos_alpha):\n",
    "                numerator += 1\n",
    "    if denominator == 0:\n",
    "        return 0\n",
    "    else:  \n",
    "        return numerator/denominator"
   ]
  },
  {
   "cell_type": "code",
   "execution_count": 18,
   "metadata": {},
   "outputs": [],
   "source": [
    "def calcSupport(mos_alpha, wid2):\n",
    "    support = 0\n",
    "    for moa in mos_alpha:\n",
    "        #te - ts <= width2\n",
    "        if moa[1] - moa[0] <= wid2:\n",
    "            support += 1\n",
    "    return support"
   ]
  },
  {
   "cell_type": "code",
   "execution_count": 19,
   "metadata": {},
   "outputs": [],
   "source": [
    "def generateRules(L, max_width, step, minConf):\n",
    "    #calculate time bound W\n",
    "    time_bound = list(range(step, max_width, step))\n",
    "    time_bound.append(max_width)\n",
    "    #generate all rules\n",
    "    for i in range(1, len(L)): #only get the sets with two or more items\n",
    "        for episode in L[i]: #for each episode in a level\n",
    "            for j in range(1, i+1): # i+1 equal to length of an episode, so j is the length of lhs\n",
    "                lhsList = list(combinations(episode, j))\n",
    "                for lhs in lhsList: #each left-hand-side\n",
    "                    for rightWid in time_bound: #each time bound of rhs\n",
    "                        for leftWid in time_bound: #each time bound of lhs\n",
    "                            #index of L is the episode length-1\n",
    "                            conf = calcConfidence(L[j-1][lhs], leftWid, L[i][episode], rightWid)\n",
    "                            if conf >= minConf:\n",
    "                                print(list(lhs), \" [\", leftWid, \"] ==> \", list(episode), \" [\", rightWid, \"] [\", calcSupport(L[i][episode], rightWid), \", \", conf,\"]\", sep=\"\")"
   ]
  },
  {
   "cell_type": "code",
   "execution_count": 20,
   "metadata": {},
   "outputs": [
    {
     "name": "stdout",
     "output_type": "stream",
     "text": [
      "['B'] [1] ==> ['B', 'C'] [5] [5, 1.0]\n",
      "['B'] [2] ==> ['B', 'C'] [5] [5, 1.0]\n",
      "['B'] [3] ==> ['B', 'C'] [5] [5, 1.0]\n",
      "['B'] [4] ==> ['B', 'C'] [5] [5, 1.0]\n",
      "['B'] [5] ==> ['B', 'C'] [5] [5, 1.0]\n",
      "['E'] [1] ==> ['E', 'F'] [5] [5, 1.0]\n",
      "['E'] [2] ==> ['E', 'F'] [5] [5, 1.0]\n",
      "['E'] [3] ==> ['E', 'F'] [5] [5, 1.0]\n",
      "['E'] [4] ==> ['E', 'F'] [5] [5, 1.0]\n",
      "['E'] [5] ==> ['E', 'F'] [5] [5, 1.0]\n",
      "['A', 'B'] [2] ==> ['A', 'B', 'C'] [5] [4, 1.0]\n",
      "['A', 'B'] [3] ==> ['A', 'B', 'C'] [5] [4, 1.0]\n",
      "['A', 'B'] [4] ==> ['A', 'B', 'C'] [5] [4, 1.0]\n",
      "['A', 'B'] [5] ==> ['A', 'B', 'C'] [5] [4, 1.0]\n",
      "['A', 'B'] [2] ==> ['A', 'B', 'D'] [3] [1, 1.0]\n",
      "['A', 'B'] [2] ==> ['A', 'B', 'D'] [4] [2, 1.0]\n",
      "['A', 'B'] [2] ==> ['A', 'B', 'D'] [5] [2, 1.0]\n",
      "['B', 'D'] [3] ==> ['A', 'B', 'D'] [4] [2, 1.0]\n",
      "['B', 'D'] [4] ==> ['A', 'B', 'D'] [4] [2, 1.0]\n",
      "['B', 'D'] [5] ==> ['A', 'B', 'D'] [4] [2, 1.0]\n",
      "['B', 'D'] [3] ==> ['A', 'B', 'D'] [5] [2, 1.0]\n",
      "['B', 'D'] [4] ==> ['A', 'B', 'D'] [5] [2, 1.0]\n",
      "['B', 'D'] [5] ==> ['A', 'B', 'D'] [5] [2, 1.0]\n",
      "['B', 'E'] [2] ==> ['A', 'B', 'E'] [3] [1, 1.0]\n",
      "['B', 'E'] [2] ==> ['A', 'B', 'E'] [4] [1, 1.0]\n",
      "['B', 'E'] [2] ==> ['A', 'B', 'E'] [5] [2, 1.0]\n",
      "['A', 'C'] [3] ==> ['A', 'C', 'E'] [3] [1, 1.0]\n",
      "['A', 'C'] [3] ==> ['A', 'C', 'E'] [4] [1, 1.0]\n",
      "['A', 'C'] [3] ==> ['A', 'C', 'E'] [5] [3, 1.0]\n",
      "['A', 'E'] [2] ==> ['A', 'C', 'E'] [4] [1, 1.0]\n",
      "['A', 'E'] [3] ==> ['A', 'C', 'E'] [4] [1, 1.0]\n",
      "['A', 'E'] [4] ==> ['A', 'C', 'E'] [4] [1, 1.0]\n",
      "['A', 'E'] [2] ==> ['A', 'C', 'E'] [5] [3, 1.0]\n",
      "['A', 'E'] [3] ==> ['A', 'C', 'E'] [5] [3, 1.0]\n",
      "['A', 'E'] [4] ==> ['A', 'C', 'E'] [5] [3, 1.0]\n",
      "['A', 'C'] [3] ==> ['A', 'C', 'F'] [4] [1, 1.0]\n",
      "['A', 'C'] [3] ==> ['A', 'C', 'F'] [5] [2, 1.0]\n",
      "['A', 'E'] [2] ==> ['A', 'E', 'F'] [5] [2, 1.0]\n",
      "['A', 'E'] [3] ==> ['A', 'E', 'F'] [5] [2, 1.0]\n",
      "['A', 'E'] [4] ==> ['A', 'E', 'F'] [5] [2, 1.0]\n",
      "['B', 'C'] [2] ==> ['B', 'C', 'E'] [3] [1, 1.0]\n",
      "['B', 'C'] [2] ==> ['B', 'C', 'E'] [4] [2, 1.0]\n",
      "['B', 'C'] [3] ==> ['B', 'C', 'E'] [4] [2, 1.0]\n",
      "['B', 'C'] [4] ==> ['B', 'C', 'E'] [4] [2, 1.0]\n",
      "['B', 'C'] [2] ==> ['B', 'C', 'E'] [5] [4, 1.0]\n",
      "['B', 'C'] [3] ==> ['B', 'C', 'E'] [5] [4, 1.0]\n",
      "['B', 'C'] [4] ==> ['B', 'C', 'E'] [5] [4, 1.0]\n",
      "['B', 'E'] [2] ==> ['B', 'C', 'E'] [5] [4, 1.0]\n",
      "['B', 'E'] [3] ==> ['B', 'C', 'E'] [5] [4, 1.0]\n",
      "['B', 'E'] [4] ==> ['B', 'C', 'E'] [5] [4, 1.0]\n",
      "['B', 'E'] [5] ==> ['B', 'C', 'E'] [5] [4, 1.0]\n",
      "['B', 'C'] [2] ==> ['B', 'C', 'F'] [4] [2, 1.0]\n",
      "['B', 'C'] [2] ==> ['B', 'C', 'F'] [5] [2, 1.0]\n",
      "['B', 'F'] [4] ==> ['B', 'C', 'F'] [4] [2, 1.0]\n",
      "['B', 'F'] [4] ==> ['B', 'C', 'F'] [5] [2, 1.0]\n",
      "['B', 'F'] [4] ==> ['B', 'E', 'F'] [5] [3, 1.0]\n",
      "['C', 'E'] [2] ==> ['C', 'E', 'F'] [3] [3, 1.0]\n",
      "['C', 'E'] [3] ==> ['C', 'E', 'F'] [3] [3, 1.0]\n",
      "['C', 'E'] [2] ==> ['C', 'E', 'F'] [4] [4, 1.0]\n",
      "['C', 'E'] [3] ==> ['C', 'E', 'F'] [4] [4, 1.0]\n",
      "['C', 'E'] [2] ==> ['C', 'E', 'F'] [5] [6, 1.0]\n",
      "['C', 'E'] [3] ==> ['C', 'E', 'F'] [5] [6, 1.0]\n",
      "['E', 'F'] [2] ==> ['C', 'E', 'F'] [4] [4, 1.0]\n",
      "['E', 'F'] [2] ==> ['C', 'E', 'F'] [5] [6, 1.0]\n",
      "['B', 'E'] [2] ==> ['A', 'B', 'C', 'E'] [5] [3, 1.0]\n",
      "['A', 'B', 'C'] [4] ==> ['A', 'B', 'C', 'E'] [5] [3, 1.0]\n",
      "['A', 'B', 'E'] [3] ==> ['A', 'B', 'C', 'E'] [5] [3, 1.0]\n",
      "['A', 'B', 'E'] [4] ==> ['A', 'B', 'C', 'E'] [5] [3, 1.0]\n",
      "['A', 'B', 'E'] [5] ==> ['A', 'B', 'C', 'E'] [5] [3, 1.0]\n",
      "['B', 'C'] [2] ==> ['B', 'C', 'E', 'F'] [4] [1, 1.0]\n",
      "['B', 'C'] [2] ==> ['B', 'C', 'E', 'F'] [5] [3, 1.0]\n",
      "['B', 'F'] [4] ==> ['B', 'C', 'E', 'F'] [5] [3, 1.0]\n",
      "['B', 'C', 'E'] [3] ==> ['B', 'C', 'E', 'F'] [4] [1, 1.0]\n",
      "['B', 'C', 'E'] [3] ==> ['B', 'C', 'E', 'F'] [5] [3, 1.0]\n",
      "['B', 'C', 'F'] [4] ==> ['B', 'C', 'E', 'F'] [5] [3, 1.0]\n",
      "['B', 'C', 'F'] [5] ==> ['B', 'C', 'E', 'F'] [5] [3, 1.0]\n",
      "['B', 'E', 'F'] [4] ==> ['B', 'C', 'E', 'F'] [4] [1, 1.0]\n",
      "['B', 'E', 'F'] [4] ==> ['B', 'C', 'E', 'F'] [5] [3, 1.0]\n",
      "['B', 'E', 'F'] [5] ==> ['B', 'C', 'E', 'F'] [5] [3, 1.0]\n"
     ]
    }
   ],
   "source": [
    "generateRules(L, 5, 1, 0.9)"
   ]
  }
 ],
 "metadata": {
  "kernelspec": {
   "display_name": "Python 3",
   "language": "python",
   "name": "python3"
  },
  "language_info": {
   "codemirror_mode": {
    "name": "ipython",
    "version": 3
   },
   "file_extension": ".py",
   "mimetype": "text/x-python",
   "name": "python",
   "nbconvert_exporter": "python",
   "pygments_lexer": "ipython3",
   "version": "3.8.2"
  }
 },
 "nbformat": 4,
 "nbformat_minor": 4
}
