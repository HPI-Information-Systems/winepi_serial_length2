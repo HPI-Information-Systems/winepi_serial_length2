{
 "cells": [
  {
   "cell_type": "code",
   "execution_count": 59,
   "metadata": {},
   "outputs": [],
   "source": [
    "from episode_mining.minepi import MINEPI, MinEpiRules"
   ]
  },
  {
   "cell_type": "code",
   "execution_count": 60,
   "metadata": {},
   "outputs": [],
   "source": [
    "sequence2 = sorted([\n",
    "    (31, ['E','D','C']), (32, ['E','D','C']), (33, ['E','D','C']), (35, ['E','D','C']), (37, ['E','D','C']), (38, ['E','D','C']), (39, ['E','D','C']),\n",
    "    (40, ['E','D','C']), (42, ['E','D','C']), (44, ['E','D','C']), (46, ['E','D','C']), (47, ['E','D','C']),\n",
    "], key=lambda x:x[0])\n",
    "\n",
    "sequence2 = sorted([\n",
    "    (31, 'ECD'), (32, 'ECD'), (33, 'ECD'), (35, 'ECD'), (37, 'ECD'), (38, 'ECD'), (39, 'ECD'),\n",
    "    (40, 'ECD'), (42, 'ECD'), (44, 'ECD'), (46, 'ECD'), (47, 'ECD'),\n",
    "], key=lambda x:x[0])\n",
    "\n",
    "sequence2 = sorted([\n",
    "    (31, 'ECD'), (32, 'ECD'), (33, 'ECD'), (35, 'ECD'), (37, 'ECD'), (38, 'ECD'), (39, 'ECD'),\n",
    "    (40, 'ECD'), (42, 'ECD'), (44, 'ECD'), (46, 'ECD'), (47, 'ECD'),\n",
    "], key=lambda x:x[0])\n",
    "\n",
    "sequence2 = sorted([\n",
    "    (31, 'E'), (31, 'D'), (32, 'A'), (32, 'B'),(35, 'E'), (35, 'D'), (36, 'A'), (36, 'B'),\n",
    "], key=lambda x:x[0])"
   ]
  },
  {
   "cell_type": "code",
   "execution_count": 60,
   "metadata": {},
   "outputs": [],
   "source": []
  },
  {
   "cell_type": "code",
   "execution_count": 61,
   "metadata": {},
   "outputs": [],
   "source": [
    "alg = MINEPI(sequence2, episode_type='serial')\n",
    "freqEpisodes = alg.MinEpi(max_width=2, step=2, minFrequent=1)"
   ]
  },
  {
   "cell_type": "code",
   "execution_count": 62,
   "metadata": {},
   "outputs": [
    {
     "data": {
      "text/plain": "[{('E',): {(31, 33), (35, 37)},\n  ('D',): {(31, 33), (35, 37)},\n  ('A',): {(32, 34), (36, 38)},\n  ('B',): {(32, 34), (36, 38)}}]"
     },
     "execution_count": 62,
     "metadata": {},
     "output_type": "execute_result"
    }
   ],
   "source": [
    "freqEpisodes"
   ]
  },
  {
   "cell_type": "code",
   "execution_count": 63,
   "metadata": {},
   "outputs": [],
   "source": [
    "minepiRules = MinEpiRules(freqEpisodes, max_width=2, step=2, minConfidence=0.75)\n",
    "ruleList = minepiRules.generateRules()\n",
    "minepiRules.printRules(ruleList)"
   ]
  }
 ],
 "metadata": {
  "kernelspec": {
   "display_name": "Python 3",
   "language": "python",
   "name": "python3"
  },
  "language_info": {
   "codemirror_mode": {
    "name": "ipython",
    "version": 3
   },
   "file_extension": ".py",
   "mimetype": "text/x-python",
   "name": "python",
   "nbconvert_exporter": "python",
   "pygments_lexer": "ipython3",
   "version": "3.8.2"
  }
 },
 "nbformat": 4,
 "nbformat_minor": 4
}