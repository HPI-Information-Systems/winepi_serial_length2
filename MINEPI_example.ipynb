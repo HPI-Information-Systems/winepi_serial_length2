{
 "cells": [
  {
   "cell_type": "code",
   "execution_count": 1,
   "metadata": {},
   "outputs": [],
   "source": [
    "from episode_mining.minepi import MINEPI, MinEpiRules"
   ]
  },
  {
   "cell_type": "code",
   "execution_count": 2,
   "metadata": {},
   "outputs": [],
   "source": [
    "sequence = sorted([\n",
    "    (31, 'E'), (32, 'D'), (33, 'F'), (35, 'A'), (37, 'B'), (38, 'C'), (39, 'E'),\n",
    "    (40, 'F'), (42, 'C'), (44, 'D'), (46, 'B'), (47, 'A'), (48, 'D'), (50, 'C'),\n",
    "    (53, 'E'), (54, 'F'), (55, 'C'), (57, 'B'), (58, 'E'), (59, 'A'), (60, 'E'),\n",
    "    (61, 'C'), (62, 'F'), (65, 'A'), (67, 'D'),\n",
    "], key=lambda x:x[0])"
   ]
  },
  {
   "cell_type": "code",
   "execution_count": 3,
   "metadata": {},
   "outputs": [],
   "source": [
    "sequence2 = sorted([\n",
    "    (10, 'D'), (20, 'C'), (30, 'A'), (40, 'B'), (50, 'D'), (60, 'A'), (70, 'B'), (80, 'C'),\n",
    "], key=lambda x:x[0])"
   ]
  },
  {
   "cell_type": "code",
   "execution_count": 4,
   "metadata": {},
   "outputs": [],
   "source": [
    "alg = MINEPI(sequence2, episode_type='serial')\n",
    "freqEpisodes = alg.MinEpi(minFrequent=1, max_width=40, step=10)"
   ]
  },
  {
   "cell_type": "code",
   "execution_count": 5,
   "metadata": {},
   "outputs": [
    {
     "data": {
      "text/plain": [
       "[{('D',): {(10, 20), (50, 60)},\n",
       "  ('C',): {(20, 30), (80, 90)},\n",
       "  ('A',): {(30, 40), (60, 70)},\n",
       "  ('B',): {(40, 50), (70, 80)}},\n",
       " {('A', 'B'): {(30, 50), (60, 80)},\n",
       "  ('A', 'C'): {(60, 90)},\n",
       "  ('A', 'D'): {(30, 60)},\n",
       "  ('B', 'A'): {(40, 70)},\n",
       "  ('B', 'C'): {(70, 90)},\n",
       "  ('B', 'D'): {(40, 60)},\n",
       "  ('C', 'A'): {(20, 40)},\n",
       "  ('C', 'B'): {(20, 50)},\n",
       "  ('C', 'D'): {(20, 60)},\n",
       "  ('D', 'A'): {(10, 40), (50, 70)},\n",
       "  ('D', 'B'): {(10, 50), (50, 80)},\n",
       "  ('D', 'C'): {(10, 30), (50, 90)}},\n",
       " {('A', 'B', 'C'): {(60, 90)},\n",
       "  ('A', 'B', 'D'): {(30, 60)},\n",
       "  ('B', 'D', 'A'): {(40, 70)},\n",
       "  ('C', 'A', 'B'): {(20, 50)},\n",
       "  ('C', 'A', 'D'): {(20, 60)},\n",
       "  ('C', 'B', 'D'): {(20, 60)},\n",
       "  ('D', 'A', 'B'): {(10, 50), (50, 80)},\n",
       "  ('D', 'A', 'C'): {(50, 90)},\n",
       "  ('D', 'B', 'C'): {(50, 90)},\n",
       "  ('D', 'C', 'A'): {(10, 40)},\n",
       "  ('D', 'C', 'B'): {(10, 50)}},\n",
       " {('C', 'A', 'B', 'D'): {(20, 60)},\n",
       "  ('D', 'A', 'B', 'C'): {(50, 90)},\n",
       "  ('D', 'C', 'A', 'B'): {(10, 50)}}]"
      ]
     },
     "execution_count": 5,
     "metadata": {},
     "output_type": "execute_result"
    }
   ],
   "source": [
    "freqEpisodes"
   ]
  },
  {
   "cell_type": "code",
   "execution_count": 6,
   "metadata": {},
   "outputs": [
    {
     "name": "stdout",
     "output_type": "stream",
     "text": [
      "MINEPIRule: ['A'] [10] ==> ['A', 'B'] [20] [2, 1.0]\n",
      "MINEPIRule: ['A'] [20] ==> ['A', 'B'] [20] [2, 1.0]\n",
      "MINEPIRule: ['A'] [30] ==> ['A', 'B'] [20] [2, 1.0]\n",
      "MINEPIRule: ['A'] [40] ==> ['A', 'B'] [20] [2, 1.0]\n",
      "MINEPIRule: ['A'] [10] ==> ['A', 'B'] [30] [2, 1.0]\n",
      "MINEPIRule: ['A'] [20] ==> ['A', 'B'] [30] [2, 1.0]\n",
      "MINEPIRule: ['A'] [30] ==> ['A', 'B'] [30] [2, 1.0]\n",
      "MINEPIRule: ['A'] [40] ==> ['A', 'B'] [30] [2, 1.0]\n",
      "MINEPIRule: ['A'] [10] ==> ['A', 'B'] [40] [2, 1.0]\n",
      "MINEPIRule: ['A'] [20] ==> ['A', 'B'] [40] [2, 1.0]\n",
      "MINEPIRule: ['A'] [30] ==> ['A', 'B'] [40] [2, 1.0]\n",
      "MINEPIRule: ['A'] [40] ==> ['A', 'B'] [40] [2, 1.0]\n",
      "MINEPIRule: ['D'] [10] ==> ['D', 'A'] [30] [2, 1.0]\n",
      "MINEPIRule: ['D'] [20] ==> ['D', 'A'] [30] [2, 1.0]\n",
      "MINEPIRule: ['D'] [30] ==> ['D', 'A'] [30] [2, 1.0]\n",
      "MINEPIRule: ['D'] [40] ==> ['D', 'A'] [30] [2, 1.0]\n",
      "MINEPIRule: ['D'] [10] ==> ['D', 'A'] [40] [2, 1.0]\n",
      "MINEPIRule: ['D'] [20] ==> ['D', 'A'] [40] [2, 1.0]\n",
      "MINEPIRule: ['D'] [30] ==> ['D', 'A'] [40] [2, 1.0]\n",
      "MINEPIRule: ['D'] [40] ==> ['D', 'A'] [40] [2, 1.0]\n",
      "MINEPIRule: ['D'] [10] ==> ['D', 'B'] [40] [2, 1.0]\n",
      "MINEPIRule: ['D'] [20] ==> ['D', 'B'] [40] [2, 1.0]\n",
      "MINEPIRule: ['D'] [30] ==> ['D', 'B'] [40] [2, 1.0]\n",
      "MINEPIRule: ['D'] [40] ==> ['D', 'B'] [40] [2, 1.0]\n",
      "MINEPIRule: ['D'] [10] ==> ['D', 'C'] [40] [2, 1.0]\n",
      "MINEPIRule: ['D'] [20] ==> ['D', 'C'] [40] [2, 1.0]\n",
      "MINEPIRule: ['D'] [30] ==> ['D', 'C'] [40] [2, 1.0]\n",
      "MINEPIRule: ['D'] [40] ==> ['D', 'C'] [40] [2, 1.0]\n",
      "MINEPIRule: ['A', 'C'] [30] ==> ['A', 'B', 'C'] [30] [1, 1.0]\n",
      "MINEPIRule: ['A', 'C'] [40] ==> ['A', 'B', 'C'] [30] [1, 1.0]\n",
      "MINEPIRule: ['A', 'C'] [30] ==> ['A', 'B', 'C'] [40] [1, 1.0]\n",
      "MINEPIRule: ['A', 'C'] [40] ==> ['A', 'B', 'C'] [40] [1, 1.0]\n",
      "MINEPIRule: ['A', 'D'] [30] ==> ['A', 'B', 'D'] [30] [1, 1.0]\n",
      "MINEPIRule: ['A', 'D'] [40] ==> ['A', 'B', 'D'] [30] [1, 1.0]\n",
      "MINEPIRule: ['A', 'D'] [30] ==> ['A', 'B', 'D'] [40] [1, 1.0]\n",
      "MINEPIRule: ['A', 'D'] [40] ==> ['A', 'B', 'D'] [40] [1, 1.0]\n",
      "MINEPIRule: ['B', 'D'] [20] ==> ['B', 'D', 'A'] [30] [1, 1.0]\n",
      "MINEPIRule: ['B', 'D'] [30] ==> ['B', 'D', 'A'] [30] [1, 1.0]\n",
      "MINEPIRule: ['B', 'D'] [40] ==> ['B', 'D', 'A'] [30] [1, 1.0]\n",
      "MINEPIRule: ['B', 'D'] [20] ==> ['B', 'D', 'A'] [40] [1, 1.0]\n",
      "MINEPIRule: ['B', 'D'] [30] ==> ['B', 'D', 'A'] [40] [1, 1.0]\n",
      "MINEPIRule: ['B', 'D'] [40] ==> ['B', 'D', 'A'] [40] [1, 1.0]\n",
      "MINEPIRule: ['B', 'A'] [30] ==> ['B', 'D', 'A'] [30] [1, 1.0]\n",
      "MINEPIRule: ['B', 'A'] [40] ==> ['B', 'D', 'A'] [30] [1, 1.0]\n",
      "MINEPIRule: ['B', 'A'] [30] ==> ['B', 'D', 'A'] [40] [1, 1.0]\n",
      "MINEPIRule: ['B', 'A'] [40] ==> ['B', 'D', 'A'] [40] [1, 1.0]\n",
      "MINEPIRule: ['C', 'A'] [20] ==> ['C', 'A', 'B'] [30] [1, 1.0]\n",
      "MINEPIRule: ['C', 'A'] [30] ==> ['C', 'A', 'B'] [30] [1, 1.0]\n",
      "MINEPIRule: ['C', 'A'] [40] ==> ['C', 'A', 'B'] [30] [1, 1.0]\n",
      "MINEPIRule: ['C', 'A'] [20] ==> ['C', 'A', 'B'] [40] [1, 1.0]\n",
      "MINEPIRule: ['C', 'A'] [30] ==> ['C', 'A', 'B'] [40] [1, 1.0]\n",
      "MINEPIRule: ['C', 'A'] [40] ==> ['C', 'A', 'B'] [40] [1, 1.0]\n",
      "MINEPIRule: ['C', 'B'] [30] ==> ['C', 'A', 'B'] [30] [1, 1.0]\n",
      "MINEPIRule: ['C', 'B'] [40] ==> ['C', 'A', 'B'] [30] [1, 1.0]\n",
      "MINEPIRule: ['C', 'B'] [30] ==> ['C', 'A', 'B'] [40] [1, 1.0]\n",
      "MINEPIRule: ['C', 'B'] [40] ==> ['C', 'A', 'B'] [40] [1, 1.0]\n",
      "MINEPIRule: ['C', 'A'] [20] ==> ['C', 'A', 'D'] [40] [1, 1.0]\n",
      "MINEPIRule: ['C', 'A'] [30] ==> ['C', 'A', 'D'] [40] [1, 1.0]\n",
      "MINEPIRule: ['C', 'A'] [40] ==> ['C', 'A', 'D'] [40] [1, 1.0]\n",
      "MINEPIRule: ['C', 'D'] [40] ==> ['C', 'A', 'D'] [40] [1, 1.0]\n",
      "MINEPIRule: ['C', 'B'] [30] ==> ['C', 'B', 'D'] [40] [1, 1.0]\n",
      "MINEPIRule: ['C', 'B'] [40] ==> ['C', 'B', 'D'] [40] [1, 1.0]\n",
      "MINEPIRule: ['C', 'D'] [40] ==> ['C', 'B', 'D'] [40] [1, 1.0]\n",
      "MINEPIRule: ['D'] [10] ==> ['D', 'A', 'B'] [40] [2, 1.0]\n",
      "MINEPIRule: ['D'] [20] ==> ['D', 'A', 'B'] [40] [2, 1.0]\n",
      "MINEPIRule: ['D'] [30] ==> ['D', 'A', 'B'] [40] [2, 1.0]\n",
      "MINEPIRule: ['D'] [40] ==> ['D', 'A', 'B'] [40] [2, 1.0]\n",
      "MINEPIRule: ['D', 'A'] [20] ==> ['D', 'A', 'B'] [30] [1, 1.0]\n",
      "MINEPIRule: ['D', 'A'] [20] ==> ['D', 'A', 'B'] [40] [2, 1.0]\n",
      "MINEPIRule: ['D', 'A'] [30] ==> ['D', 'A', 'B'] [40] [2, 1.0]\n",
      "MINEPIRule: ['D', 'A'] [40] ==> ['D', 'A', 'B'] [40] [2, 1.0]\n",
      "MINEPIRule: ['D', 'B'] [30] ==> ['D', 'A', 'B'] [30] [1, 1.0]\n",
      "MINEPIRule: ['D', 'B'] [30] ==> ['D', 'A', 'B'] [40] [2, 1.0]\n",
      "MINEPIRule: ['D', 'B'] [40] ==> ['D', 'A', 'B'] [40] [2, 1.0]\n",
      "MINEPIRule: ['D', 'A'] [20] ==> ['D', 'A', 'C'] [40] [1, 1.0]\n",
      "MINEPIRule: ['D', 'B'] [30] ==> ['D', 'B', 'C'] [40] [1, 1.0]\n",
      "MINEPIRule: ['D', 'C'] [20] ==> ['D', 'C', 'A'] [30] [1, 1.0]\n",
      "MINEPIRule: ['D', 'C'] [30] ==> ['D', 'C', 'A'] [30] [1, 1.0]\n",
      "MINEPIRule: ['D', 'C'] [20] ==> ['D', 'C', 'A'] [40] [1, 1.0]\n",
      "MINEPIRule: ['D', 'C'] [30] ==> ['D', 'C', 'A'] [40] [1, 1.0]\n",
      "MINEPIRule: ['D', 'C'] [20] ==> ['D', 'C', 'B'] [40] [1, 1.0]\n",
      "MINEPIRule: ['D', 'C'] [30] ==> ['D', 'C', 'B'] [40] [1, 1.0]\n",
      "MINEPIRule: ['C', 'A'] [20] ==> ['C', 'A', 'B', 'D'] [40] [1, 1.0]\n",
      "MINEPIRule: ['C', 'A'] [30] ==> ['C', 'A', 'B', 'D'] [40] [1, 1.0]\n",
      "MINEPIRule: ['C', 'A'] [40] ==> ['C', 'A', 'B', 'D'] [40] [1, 1.0]\n",
      "MINEPIRule: ['C', 'B'] [30] ==> ['C', 'A', 'B', 'D'] [40] [1, 1.0]\n",
      "MINEPIRule: ['C', 'B'] [40] ==> ['C', 'A', 'B', 'D'] [40] [1, 1.0]\n",
      "MINEPIRule: ['C', 'D'] [40] ==> ['C', 'A', 'B', 'D'] [40] [1, 1.0]\n",
      "MINEPIRule: ['C', 'A', 'B'] [30] ==> ['C', 'A', 'B', 'D'] [40] [1, 1.0]\n",
      "MINEPIRule: ['C', 'A', 'B'] [40] ==> ['C', 'A', 'B', 'D'] [40] [1, 1.0]\n",
      "MINEPIRule: ['C', 'A', 'D'] [40] ==> ['C', 'A', 'B', 'D'] [40] [1, 1.0]\n",
      "MINEPIRule: ['C', 'B', 'D'] [40] ==> ['C', 'A', 'B', 'D'] [40] [1, 1.0]\n",
      "MINEPIRule: ['D', 'A'] [20] ==> ['D', 'A', 'B', 'C'] [40] [1, 1.0]\n",
      "MINEPIRule: ['D', 'B'] [30] ==> ['D', 'A', 'B', 'C'] [40] [1, 1.0]\n",
      "MINEPIRule: ['D', 'A', 'B'] [30] ==> ['D', 'A', 'B', 'C'] [40] [1, 1.0]\n",
      "MINEPIRule: ['D', 'A', 'C'] [40] ==> ['D', 'A', 'B', 'C'] [40] [1, 1.0]\n",
      "MINEPIRule: ['D', 'B', 'C'] [40] ==> ['D', 'A', 'B', 'C'] [40] [1, 1.0]\n",
      "MINEPIRule: ['D', 'C'] [20] ==> ['D', 'C', 'A', 'B'] [40] [1, 1.0]\n",
      "MINEPIRule: ['D', 'C'] [30] ==> ['D', 'C', 'A', 'B'] [40] [1, 1.0]\n",
      "MINEPIRule: ['D', 'C', 'A'] [30] ==> ['D', 'C', 'A', 'B'] [40] [1, 1.0]\n",
      "MINEPIRule: ['D', 'C', 'A'] [40] ==> ['D', 'C', 'A', 'B'] [40] [1, 1.0]\n",
      "MINEPIRule: ['D', 'C', 'B'] [40] ==> ['D', 'C', 'A', 'B'] [40] [1, 1.0]\n"
     ]
    }
   ],
   "source": [
    "minepiRules = MinEpiRules(freqEpisodes, max_width=40, step=10, minConfidence=0.75)\n",
    "ruleList = minepiRules.generateRules()\n",
    "minepiRules.printRules(ruleList)"
   ]
  }
 ],
 "metadata": {
  "kernelspec": {
   "display_name": "Python 3",
   "language": "python",
   "name": "python3"
  },
  "language_info": {
   "codemirror_mode": {
    "name": "ipython",
    "version": 3
   },
   "file_extension": ".py",
   "mimetype": "text/x-python",
   "name": "python",
   "nbconvert_exporter": "python",
   "pygments_lexer": "ipython3",
   "version": "3.8.2"
  }
 },
 "nbformat": 4,
 "nbformat_minor": 4
}
