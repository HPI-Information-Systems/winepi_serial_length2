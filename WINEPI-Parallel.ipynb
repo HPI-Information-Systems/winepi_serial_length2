{
 "cells": [
  {
   "cell_type": "code",
   "execution_count": 1,
   "metadata": {},
   "outputs": [],
   "source": [
    "from numpy import *\n",
    "from itertools import combinations"
   ]
  },
  {
   "cell_type": "code",
   "execution_count": 2,
   "metadata": {},
   "outputs": [],
   "source": [
    "sequence = sorted([\n",
    "    (31, 'E'), (32, 'D'), (33, 'F'), (35, 'A'), (37, 'B'), (38, 'C'), (39, 'E'),\n",
    "    (40, 'F'), (42, 'C'), (44, 'D'), (46, 'B'), (47, 'A'), (48, 'D'), (50, 'C'),\n",
    "    (53, 'E'), (54, 'F'), (55, 'C'), (57, 'B'), (58, 'E'), (59, 'A'), (60, 'E'),\n",
    "    (61, 'C'), (62, 'F'), (65, 'A'), (67, 'D'),\n",
    "], key=lambda x:x[0])"
   ]
  },
  {
   "cell_type": "code",
   "execution_count": 3,
   "metadata": {},
   "outputs": [],
   "source": [
    "sequence2 = sorted([\n",
    "    (10, 'D'), (20, 'C'), (30, 'A'), (40, 'B'), (50, 'D'), (60, 'A'), (70, 'B'), (80, 'C'),\n",
    "], key=lambda x:x[0])"
   ]
  },
  {
   "cell_type": "code",
   "execution_count": 4,
   "metadata": {},
   "outputs": [],
   "source": [
    "def slidingWindow(sequence, width, step=1):\n",
    "    windows = [list(sequence[0][1])]\n",
    "    t_end = sequence[0][0] + step\n",
    "    t_start = t_end - width\n",
    "    # number of windows = (Te - Ts + width - step)/step = (te_max - ts_min + width)/step\n",
    "    noWins = int((sequence[-1][0] - sequence[0][0] + width)/step)\n",
    "    for i in range(noWins-1): #because 1st window has been generated.\n",
    "        row = []\n",
    "        t_start += step; t_end += step\n",
    "        for event in sequence:\n",
    "            if t_start <= event[0] and event[0] < t_end:\n",
    "                row.append(event[1])\n",
    "        windows.append(row)\n",
    "    return windows"
   ]
  },
  {
   "cell_type": "code",
   "execution_count": 5,
   "metadata": {},
   "outputs": [
    {
     "data": {
      "text/plain": [
       "41"
      ]
     },
     "execution_count": 5,
     "metadata": {},
     "output_type": "execute_result"
    }
   ],
   "source": [
    "dataSet = slidingWindow(sequence, 5, 1)\n",
    "len(dataSet)"
   ]
  },
  {
   "cell_type": "code",
   "execution_count": 6,
   "metadata": {},
   "outputs": [],
   "source": [
    "def createC1(dataSet):\n",
    "    C1 = []\n",
    "    for transaction in dataSet:\n",
    "        for item in transaction:\n",
    "            if not [item] in C1:\n",
    "                C1.append([item])\n",
    "                \n",
    "    C1.sort()\n",
    "    return list(C1)   "
   ]
  },
  {
   "cell_type": "code",
   "execution_count": 7,
   "metadata": {},
   "outputs": [],
   "source": [
    "def scanWindows(W, Ck, minSupport):\n",
    "    ssCnt = {}\n",
    "    for tid in W:\n",
    "        for can in Ck:\n",
    "            if set(can).issubset(tid):\n",
    "                if not tuple(can) in ssCnt: ssCnt[tuple(can)]=1\n",
    "                else: ssCnt[tuple(can)] += 1\n",
    "    numItems = float(len(W))\n",
    "    retList = []\n",
    "    supportData = {}\n",
    "    for key in ssCnt:\n",
    "        support = ssCnt[key]/numItems\n",
    "        if support >= minSupport:\n",
    "            retList.insert(0,key)\n",
    "        supportData[key] = support\n",
    "    return retList, supportData"
   ]
  },
  {
   "cell_type": "code",
   "execution_count": 8,
   "metadata": {},
   "outputs": [],
   "source": [
    "def checkSubsetFrequency(candidate, Lk, k):\n",
    "    if k>1:    \n",
    "        subsets = list(combinations(candidate, k))\n",
    "    else:\n",
    "        return True\n",
    "    for elem in subsets:\n",
    "        if not elem in Lk:\n",
    "            return False\n",
    "    return True"
   ]
  },
  {
   "cell_type": "code",
   "execution_count": 9,
   "metadata": {},
   "outputs": [],
   "source": [
    "def aprioriGen(Lk, k): #creates Ck\n",
    "    resList = [] #result set\n",
    "    candidatesK = [] \n",
    "    lk = sorted(set([item for t in Lk for item in t])) #get and sort elements from frozenset\n",
    "    candidatesK = list(combinations(lk, k))\n",
    "    for can in candidatesK:\n",
    "        if checkSubsetFrequency(can, Lk, k-1):\n",
    "            resList.append(can)\n",
    "    return resList"
   ]
  },
  {
   "cell_type": "code",
   "execution_count": 10,
   "metadata": {},
   "outputs": [],
   "source": [
    "def WinEpi(dataSet, minSupport):\n",
    "    C1 = createC1(dataSet)\n",
    "    D = list(map(set, dataSet))\n",
    "    L1, supportData = scanWindows(D, C1, minSupport)\n",
    "    L = [L1]\n",
    "    k = 2\n",
    "    while (len(L[k-2]) > 0):\n",
    "        Ck = aprioriGen(L[k-2], k)\n",
    "        Lk, supK = scanWindows(D, Ck, minSupport) #scan DB to get Lk\n",
    "        supportData.update(supK)\n",
    "        L.append(Lk)\n",
    "        k += 1\n",
    "    #remove empty last itemset from L\n",
    "    if L[-1] == []:\n",
    "        L.pop()\n",
    "    return L, supportData"
   ]
  },
  {
   "cell_type": "code",
   "execution_count": 11,
   "metadata": {},
   "outputs": [],
   "source": [
    "L, suppData = WinEpi(dataSet, 0.1)"
   ]
  },
  {
   "cell_type": "code",
   "execution_count": 12,
   "metadata": {
    "scrolled": true
   },
   "outputs": [
    {
     "data": {
      "text/plain": [
       "[[('C',), ('B',), ('A',), ('F',), ('D',), ('E',)],\n",
       " [('B', 'D'),\n",
       "  ('C', 'D'),\n",
       "  ('C', 'F'),\n",
       "  ('C', 'E'),\n",
       "  ('B', 'E'),\n",
       "  ('B', 'C'),\n",
       "  ('A', 'C'),\n",
       "  ('B', 'F'),\n",
       "  ('A', 'B'),\n",
       "  ('A', 'F'),\n",
       "  ('A', 'E'),\n",
       "  ('A', 'D'),\n",
       "  ('E', 'F'),\n",
       "  ('D', 'F')],\n",
       " [('C', 'E', 'F'), ('B', 'C', 'E'), ('A', 'C', 'E'), ('A', 'B', 'C')]]"
      ]
     },
     "execution_count": 12,
     "metadata": {},
     "output_type": "execute_result"
    }
   ],
   "source": [
    "L"
   ]
  },
  {
   "cell_type": "code",
   "execution_count": 13,
   "metadata": {},
   "outputs": [],
   "source": [
    "def generateRules(L, supportData, width, minConf):  #supportData is a dict coming from scanD\n",
    "    for i in range(1, len(L)): #only get the sets with two or more items\n",
    "        for item in L[i]: #for each item in a level\n",
    "            for j in range(1, i+1): # i+1 equal to length of an item\n",
    "                lhsList = list(combinations(item, j))\n",
    "                for lhs in lhsList:\n",
    "                    conf = supportData[item]/supportData[lhs]\n",
    "                    if conf >= minConf:\n",
    "                        print(list(lhs), \" ==> \", list(item), \" [\", width, \"]\", \" [\", supportData[item], \", \", conf,\"]\", sep=\"\")"
   ]
  },
  {
   "cell_type": "code",
   "execution_count": 14,
   "metadata": {
    "scrolled": false
   },
   "outputs": [
    {
     "name": "stdout",
     "output_type": "stream",
     "text": [
      "['B'] ==> ['B', 'D'] [5] [0.12195121951219512, 0.3333333333333333]\n",
      "['D'] ==> ['B', 'D'] [5] [0.12195121951219512, 0.2631578947368421]\n",
      "['C'] ==> ['C', 'D'] [5] [0.14634146341463414, 0.25]\n",
      "['D'] ==> ['C', 'D'] [5] [0.14634146341463414, 0.3157894736842105]\n",
      "['C'] ==> ['C', 'F'] [5] [0.34146341463414637, 0.5833333333333334]\n",
      "['F'] ==> ['C', 'F'] [5] [0.34146341463414637, 0.7000000000000001]\n",
      "['C'] ==> ['C', 'E'] [5] [0.3902439024390244, 0.6666666666666667]\n",
      "['E'] ==> ['C', 'E'] [5] [0.3902439024390244, 0.7272727272727273]\n",
      "['B'] ==> ['B', 'E'] [5] [0.1951219512195122, 0.5333333333333333]\n",
      "['E'] ==> ['B', 'E'] [5] [0.1951219512195122, 0.36363636363636365]\n",
      "['B'] ==> ['B', 'C'] [5] [0.24390243902439024, 0.6666666666666666]\n",
      "['C'] ==> ['B', 'C'] [5] [0.24390243902439024, 0.4166666666666667]\n",
      "['A'] ==> ['A', 'C'] [5] [0.21951219512195122, 0.45]\n",
      "['C'] ==> ['A', 'C'] [5] [0.21951219512195122, 0.375]\n",
      "['B'] ==> ['B', 'F'] [5] [0.12195121951219512, 0.3333333333333333]\n",
      "['F'] ==> ['B', 'F'] [5] [0.12195121951219512, 0.25]\n",
      "['A'] ==> ['A', 'B'] [5] [0.24390243902439024, 0.5]\n",
      "['B'] ==> ['A', 'B'] [5] [0.24390243902439024, 0.6666666666666666]\n",
      "['A'] ==> ['A', 'F'] [5] [0.17073170731707318, 0.35000000000000003]\n",
      "['F'] ==> ['A', 'F'] [5] [0.17073170731707318, 0.35000000000000003]\n",
      "['A'] ==> ['A', 'E'] [5] [0.17073170731707318, 0.35000000000000003]\n",
      "['E'] ==> ['A', 'E'] [5] [0.17073170731707318, 0.3181818181818182]\n",
      "['A'] ==> ['A', 'D'] [5] [0.24390243902439024, 0.5]\n",
      "['D'] ==> ['A', 'D'] [5] [0.24390243902439024, 0.5263157894736842]\n",
      "['E'] ==> ['E', 'F'] [5] [0.36585365853658536, 0.6818181818181818]\n",
      "['F'] ==> ['E', 'F'] [5] [0.36585365853658536, 0.75]\n",
      "['D'] ==> ['D', 'F'] [5] [0.12195121951219512, 0.2631578947368421]\n",
      "['F'] ==> ['D', 'F'] [5] [0.12195121951219512, 0.25]\n",
      "['C'] ==> ['C', 'E', 'F'] [5] [0.2926829268292683, 0.5]\n",
      "['E'] ==> ['C', 'E', 'F'] [5] [0.2926829268292683, 0.5454545454545454]\n",
      "['F'] ==> ['C', 'E', 'F'] [5] [0.2926829268292683, 0.6]\n",
      "['C', 'E'] ==> ['C', 'E', 'F'] [5] [0.2926829268292683, 0.7499999999999999]\n",
      "['C', 'F'] ==> ['C', 'E', 'F'] [5] [0.2926829268292683, 0.857142857142857]\n",
      "['E', 'F'] ==> ['C', 'E', 'F'] [5] [0.2926829268292683, 0.7999999999999999]\n",
      "['B'] ==> ['B', 'C', 'E'] [5] [0.17073170731707318, 0.46666666666666673]\n",
      "['C'] ==> ['B', 'C', 'E'] [5] [0.17073170731707318, 0.2916666666666667]\n",
      "['E'] ==> ['B', 'C', 'E'] [5] [0.17073170731707318, 0.3181818181818182]\n",
      "['B', 'C'] ==> ['B', 'C', 'E'] [5] [0.17073170731707318, 0.7000000000000001]\n",
      "['B', 'E'] ==> ['B', 'C', 'E'] [5] [0.17073170731707318, 0.875]\n",
      "['C', 'E'] ==> ['B', 'C', 'E'] [5] [0.17073170731707318, 0.4375]\n",
      "['A'] ==> ['A', 'C', 'E'] [5] [0.12195121951219512, 0.25]\n",
      "['C'] ==> ['A', 'C', 'E'] [5] [0.12195121951219512, 0.20833333333333334]\n",
      "['E'] ==> ['A', 'C', 'E'] [5] [0.12195121951219512, 0.22727272727272727]\n",
      "['A', 'C'] ==> ['A', 'C', 'E'] [5] [0.12195121951219512, 0.5555555555555556]\n",
      "['A', 'E'] ==> ['A', 'C', 'E'] [5] [0.12195121951219512, 0.7142857142857142]\n",
      "['C', 'E'] ==> ['A', 'C', 'E'] [5] [0.12195121951219512, 0.3125]\n",
      "['A'] ==> ['A', 'B', 'C'] [5] [0.12195121951219512, 0.25]\n",
      "['B'] ==> ['A', 'B', 'C'] [5] [0.12195121951219512, 0.3333333333333333]\n",
      "['C'] ==> ['A', 'B', 'C'] [5] [0.12195121951219512, 0.20833333333333334]\n",
      "['A', 'B'] ==> ['A', 'B', 'C'] [5] [0.12195121951219512, 0.5]\n",
      "['A', 'C'] ==> ['A', 'B', 'C'] [5] [0.12195121951219512, 0.5555555555555556]\n",
      "['B', 'C'] ==> ['A', 'B', 'C'] [5] [0.12195121951219512, 0.5]\n"
     ]
    }
   ],
   "source": [
    "generateRules(L, suppData, 5, 0.1)"
   ]
  }
 ],
 "metadata": {
  "kernelspec": {
   "display_name": "Python 3",
   "language": "python",
   "name": "python3"
  },
  "language_info": {
   "codemirror_mode": {
    "name": "ipython",
    "version": 3
   },
   "file_extension": ".py",
   "mimetype": "text/x-python",
   "name": "python",
   "nbconvert_exporter": "python",
   "pygments_lexer": "ipython3",
   "version": "3.8.2"
  }
 },
 "nbformat": 4,
 "nbformat_minor": 4
}
