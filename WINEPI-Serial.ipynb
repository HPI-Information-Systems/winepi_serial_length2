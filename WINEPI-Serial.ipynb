{
 "cells": [
  {
   "cell_type": "code",
   "execution_count": 1,
   "metadata": {},
   "outputs": [],
   "source": [
    "from numpy import *\n",
    "from itertools import combinations, permutations"
   ]
  },
  {
   "cell_type": "code",
   "execution_count": 2,
   "metadata": {},
   "outputs": [],
   "source": [
    "sequence = sorted([\n",
    "    (31, 'E'), (32, 'D'), (33, 'F'), (35, 'A'), (37, 'B'), (38, 'C'), (39, 'E'),\n",
    "    (40, 'F'), (42, 'C'), (44, 'D'), (46, 'B'), (47, 'A'), (48, 'D'), (50, 'C'),\n",
    "    (53, 'E'), (54, 'F'), (55, 'C'), (57, 'B'), (58, 'E'), (59, 'A'), (60, 'E'),\n",
    "    (61, 'C'), (62, 'F'), (65, 'A'), (67, 'D'),\n",
    "], key=lambda x:x[0])"
   ]
  },
  {
   "cell_type": "code",
   "execution_count": 3,
   "metadata": {},
   "outputs": [],
   "source": [
    "sequence2 = sorted([\n",
    "    (10, 'D'), (20, 'C'), (30, 'A'), (40, 'B'), (50, 'D'), (60, 'A'), (70, 'B'), (80, 'C'),\n",
    "], key=lambda x:x[0])"
   ]
  },
  {
   "cell_type": "code",
   "execution_count": 4,
   "metadata": {},
   "outputs": [],
   "source": [
    "def slidingWindow(sequence, width, step=1):\n",
    "    windows = [list(sequence[0][1])]\n",
    "    t_end = sequence[0][0] + step\n",
    "    t_start = t_end - width\n",
    "    # number of windows = (Te - Ts + width - step)/step = (te_max - ts_min + width)/step\n",
    "    noWins = int((sequence[-1][0] - sequence[0][0] + width)/step)\n",
    "    for i in range(noWins-1): #because 1st window has been generated.\n",
    "        row = []\n",
    "        t_start += step; t_end += step\n",
    "        for event in sequence:\n",
    "            if t_start <= event[0] and event[0] < t_end:\n",
    "                row.append(event[1])\n",
    "        windows.append(row)\n",
    "    return windows"
   ]
  },
  {
   "cell_type": "code",
   "execution_count": 5,
   "metadata": {},
   "outputs": [
    {
     "data": {
      "text/plain": [
       "[['D'],\n",
       " ['D', 'C'],\n",
       " ['D', 'C', 'A'],\n",
       " ['D', 'C', 'A', 'B'],\n",
       " ['C', 'A', 'B', 'D'],\n",
       " ['A', 'B', 'D', 'A'],\n",
       " ['B', 'D', 'A', 'B'],\n",
       " ['D', 'A', 'B', 'C'],\n",
       " ['A', 'B', 'C'],\n",
       " ['B', 'C'],\n",
       " ['C']]"
      ]
     },
     "execution_count": 5,
     "metadata": {},
     "output_type": "execute_result"
    }
   ],
   "source": [
    "dataSet = slidingWindow(sequence2, 40, 10)\n",
    "dataSet"
   ]
  },
  {
   "cell_type": "code",
   "execution_count": 6,
   "metadata": {},
   "outputs": [],
   "source": [
    "def createC1(dataSet):\n",
    "    C1 = []\n",
    "    for transaction in dataSet:\n",
    "        for item in transaction:\n",
    "            if not [item] in C1:\n",
    "                C1.append([item])\n",
    "                \n",
    "    C1.sort()\n",
    "    return list(C1) #use frozen set so we can use it as a key in a dict    "
   ]
  },
  {
   "cell_type": "code",
   "execution_count": 7,
   "metadata": {},
   "outputs": [],
   "source": [
    "def isSubsetInOrderWithGap(sub, lst):\n",
    "    ln, j = len(sub), 0\n",
    "    for elem in lst:\n",
    "        if elem == sub[j]:\n",
    "            j += 1\n",
    "        if j == ln:\n",
    "            return True\n",
    "    return False"
   ]
  },
  {
   "cell_type": "code",
   "execution_count": 8,
   "metadata": {},
   "outputs": [],
   "source": [
    "def scanWindows(W, Ck, minSupport):\n",
    "    ssCnt = {}\n",
    "    for tid in W:\n",
    "        for can in Ck:\n",
    "            if isSubsetInOrderWithGap(can, tid):\n",
    "                if not tuple(can) in ssCnt: ssCnt[tuple(can)]=1\n",
    "                else: ssCnt[tuple(can)] += 1\n",
    "    numItems = float(len(W))\n",
    "    retList = []\n",
    "    supportData = {}\n",
    "    for key in ssCnt:\n",
    "        support = ssCnt[key]/numItems\n",
    "        if support >= minSupport:\n",
    "            retList.insert(0,key)\n",
    "        supportData[key] = support\n",
    "    return retList, supportData"
   ]
  },
  {
   "cell_type": "code",
   "execution_count": 9,
   "metadata": {},
   "outputs": [],
   "source": [
    "def checkSubsetFrequency(candidate, Lk, k):\n",
    "    if k>1:    \n",
    "        subsets = list(combinations(candidate, k))\n",
    "    else:\n",
    "        return True\n",
    "    for elem in subsets:\n",
    "        if not elem in Lk: #elem is tuple\n",
    "            return False\n",
    "    return True"
   ]
  },
  {
   "cell_type": "code",
   "execution_count": 10,
   "metadata": {},
   "outputs": [],
   "source": [
    "def aprioriGen(Lk, k): #creates Ck\n",
    "    resList = [] #result set\n",
    "    candidatesK = [] \n",
    "    lk = sorted(set([item for t in Lk for item in t])) #get and sort elements from frozenset\n",
    "    candidatesK = list(permutations(lk, k))\n",
    "    for can in candidatesK:\n",
    "        if checkSubsetFrequency(can, Lk, k-1):\n",
    "            resList.append(can)\n",
    "    return resList"
   ]
  },
  {
   "cell_type": "code",
   "execution_count": 14,
   "metadata": {},
   "outputs": [],
   "source": [
    "def WinEpi(dataSet, minSupport):\n",
    "    C1 = createC1(dataSet)\n",
    "    L1, supportData = scanWindows(dataSet, C1, minSupport)\n",
    "    L = [L1]\n",
    "    k = 2\n",
    "    while (len(L[k-2]) > 0):\n",
    "        Ck = aprioriGen(L[k-2], k)\n",
    "        Lk, supK = scanWindows(dataSet, Ck, minSupport) #scan DB to get Lk\n",
    "        supportData.update(supK)\n",
    "        L.append(Lk)\n",
    "        k += 1\n",
    "    #remove empty last itemset from L\n",
    "    if L[-1] == []:\n",
    "        L.pop()\n",
    "    return L, supportData"
   ]
  },
  {
   "cell_type": "code",
   "execution_count": 15,
   "metadata": {},
   "outputs": [],
   "source": [
    "L, suppData = WinEpi(dataSet, 0.4)"
   ]
  },
  {
   "cell_type": "code",
   "execution_count": 16,
   "metadata": {
    "scrolled": true
   },
   "outputs": [
    {
     "data": {
      "text/plain": [
       "[[('B',), ('A',), ('C',), ('D',)], [('A', 'B'), ('D', 'A')]]"
      ]
     },
     "execution_count": 16,
     "metadata": {},
     "output_type": "execute_result"
    }
   ],
   "source": [
    "L"
   ]
  },
  {
   "cell_type": "code",
   "execution_count": 17,
   "metadata": {},
   "outputs": [],
   "source": [
    "def generateRules(L, supportData, width, minConf):  #supportData is a dict coming from scanD\n",
    "    for i in range(1, len(L)): #only get the sets with two or more items\n",
    "        for item in L[i]: #for each item in a level\n",
    "            for j in range(1, i+1): # i+1 equal to length of an item\n",
    "                lhsList = list(combinations(item, j))\n",
    "                for lhs in lhsList:\n",
    "                    conf = supportData[item]/supportData[lhs]\n",
    "                    if conf >= minConf:\n",
    "                        print(list(lhs), \" ==> \", list(item), \" [\", width, \"]\", \" [\", supportData[item], \", \", conf,\"]\", sep=\"\")"
   ]
  },
  {
   "cell_type": "code",
   "execution_count": 18,
   "metadata": {
    "scrolled": false
   },
   "outputs": [
    {
     "name": "stdout",
     "output_type": "stream",
     "text": [
      "['A'] ==> ['A', 'B'] [50] [0.5454545454545454, 0.8571428571428571]\n",
      "['B'] ==> ['A', 'B'] [50] [0.5454545454545454, 0.8571428571428571]\n",
      "['A'] ==> ['D', 'A'] [50] [0.45454545454545453, 0.7142857142857143]\n"
     ]
    }
   ],
   "source": [
    "generateRules(L, suppData, 50, 0.7)"
   ]
  }
 ],
 "metadata": {
  "kernelspec": {
   "display_name": "Python 3",
   "language": "python",
   "name": "python3"
  },
  "language_info": {
   "codemirror_mode": {
    "name": "ipython",
    "version": 3
   },
   "file_extension": ".py",
   "mimetype": "text/x-python",
   "name": "python",
   "nbconvert_exporter": "python",
   "pygments_lexer": "ipython3",
   "version": "3.8.2"
  }
 },
 "nbformat": 4,
 "nbformat_minor": 4
}
