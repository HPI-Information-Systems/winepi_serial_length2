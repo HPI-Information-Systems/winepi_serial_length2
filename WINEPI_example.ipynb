{
 "cells": [
  {
   "cell_type": "code",
   "execution_count": 2,
   "outputs": [
    {
     "data": {
      "text/plain": "{1, 2, 3, 4}"
     },
     "execution_count": 2,
     "metadata": {},
     "output_type": "execute_result"
    }
   ],
   "source": [
    "a = {1,2,3}\n",
    "a.add(4)\n",
    "a"
   ],
   "metadata": {
    "collapsed": false,
    "pycharm": {
     "name": "#%%\n"
    }
   }
  },
  {
   "cell_type": "code",
   "execution_count": 3,
   "outputs": [],
   "source": [
    "import json\n",
    "import time\n",
    "import datetime\n",
    "\n",
    "from episode_mining.winepi import WINEPI, WinEpiRules"
   ],
   "metadata": {
    "collapsed": false,
    "pycharm": {
     "name": "#%%\n"
    }
   }
  },
  {
   "cell_type": "code",
   "execution_count": 4,
   "metadata": {},
   "outputs": [],
   "source": [
    "sequence = sorted([\n",
    "    (31, 'E'), (31, 'D'), (32, 'A'), (32, 'B'),(33, 'E'), (33, 'D'), (34, 'A'), (34, 'B'),\n",
    "], key=lambda x:x[0])\n",
    "\n",
    "sequence = sorted([\n",
    "    (31, 'E'), (31, 'D'), (33, 'E'), (33, 'D'), (33, 'E'), (58, 'E'), (58, 'D')\n",
    "], key=lambda x:x[0])\n",
    "\n",
    "sequence = sorted([\n",
    "    (31, 'E'),(31, 'X'),(31, 'Y'),(31, 'Z'), (31, 'D'), (32, 'A'), (32, 'B'),(35, 'E'), (35, 'D'), (36, 'A'), (36, 'B'),\n",
    "], key=lambda x:x[0])\n",
    "\n",
    "sequence = sorted([\n",
    "    (31, {'E','X','Y','Z','D'}),(32, {'A','B'}),(35, {'E','D'}), (36, {'A','B'}),\n",
    "], key=lambda x:x[0])"
   ]
  },
  {
   "cell_type": "code",
   "execution_count": 7,
   "metadata": {},
   "outputs": [
    {
     "name": "stdout",
     "output_type": "stream",
     "text": [
      "Generating windows between [0, 7 )\n",
      "Processing Window 0\n",
      "Processing Window 1\n",
      "Processing Window 2\n",
      "Processing Window 3\n",
      "Processing Window 4\n",
      "Processing Window 5\n",
      "Processing Window 6\n",
      "Finished Window creation, beginning c1\n",
      "Finished Window 0 total: 8\n",
      "Finished Window 1 total: 8\n",
      "Finished Window 2 total: 8\n",
      "Finished Window 3 total: 8\n",
      "Finished Window 4 total: 8\n",
      "Finished Window 5 total: 8\n",
      "Finished Window 6 total: 8\n",
      "Finished Window 7 total: 8\n",
      "Finished C1 creation, beginning window scan\n",
      "Starting Serial Window Scan\n",
      "Starting Window 0 Total: 8\n",
      "Starting Window 1 Total: 8\n",
      "Starting Window 2 Total: 8\n",
      "Starting Window 3 Total: 8\n",
      "Starting Window 4 Total: 8\n",
      "Starting Window 5 Total: 8\n",
      "Starting Window 6 Total: 8\n",
      "Starting Window 7 Total: 8\n",
      "Finished First Window scan, beginning k=2\n",
      "2\n",
      "Finished apriori Gen 2 beginning window scan\n",
      "Starting Serial Window Scan\n",
      "Starting Window 0 Total: 8\n",
      "Starting Window 1 Total: 8\n",
      "Starting Window 2 Total: 8\n",
      "Starting Window 3 Total: 8\n",
      "Starting Window 4 Total: 8\n",
      "Starting Window 5 Total: 8\n",
      "Starting Window 6 Total: 8\n",
      "Starting Window 7 Total: 8\n"
     ]
    },
    {
     "data": {
      "text/plain": "[[('B',), ('A',), ('Z',), ('Y',), ('X',), ('E',), ('D',)],\n [('Z', 'B'),\n  ('Z', 'A'),\n  ('Y', 'B'),\n  ('Y', 'A'),\n  ('X', 'B'),\n  ('X', 'A'),\n  ('E', 'B'),\n  ('E', 'A'),\n  ('D', 'B'),\n  ('D', 'A')]]"
     },
     "execution_count": 7,
     "metadata": {},
     "output_type": "execute_result"
    }
   ],
   "source": [
    "alg = WINEPI(sequence, episode_type='serial')\n",
    "freqItems, suppData = alg.WinEpi(width=3, step=1, minFrequent=0.1)\n",
    "freqItems"
   ]
  },
  {
   "cell_type": "code",
   "execution_count": 8,
   "metadata": {},
   "outputs": [
    {
     "name": "stdout",
     "output_type": "stream",
     "text": [
      "WINEPIRule: ['Z'] ==> ['Z', 'B'] [3] [0.25, 0.6666666666666666]\n",
      "WINEPIRule: ['B'] ==> ['Z', 'B'] [3] [0.25, 0.3333333333333333]\n",
      "WINEPIRule: ['Z'] ==> ['Z', 'A'] [3] [0.25, 0.6666666666666666]\n",
      "WINEPIRule: ['A'] ==> ['Z', 'A'] [3] [0.25, 0.3333333333333333]\n",
      "WINEPIRule: ['Y'] ==> ['Y', 'B'] [3] [0.25, 0.6666666666666666]\n",
      "WINEPIRule: ['B'] ==> ['Y', 'B'] [3] [0.25, 0.3333333333333333]\n",
      "WINEPIRule: ['Y'] ==> ['Y', 'A'] [3] [0.25, 0.6666666666666666]\n",
      "WINEPIRule: ['A'] ==> ['Y', 'A'] [3] [0.25, 0.3333333333333333]\n",
      "WINEPIRule: ['X'] ==> ['X', 'B'] [3] [0.25, 0.6666666666666666]\n",
      "WINEPIRule: ['B'] ==> ['X', 'B'] [3] [0.25, 0.3333333333333333]\n",
      "WINEPIRule: ['X'] ==> ['X', 'A'] [3] [0.25, 0.6666666666666666]\n",
      "WINEPIRule: ['A'] ==> ['X', 'A'] [3] [0.25, 0.3333333333333333]\n",
      "WINEPIRule: ['E'] ==> ['E', 'B'] [3] [0.5, 0.6666666666666666]\n",
      "WINEPIRule: ['B'] ==> ['E', 'B'] [3] [0.5, 0.6666666666666666]\n",
      "WINEPIRule: ['E'] ==> ['E', 'A'] [3] [0.5, 0.6666666666666666]\n",
      "WINEPIRule: ['A'] ==> ['E', 'A'] [3] [0.5, 0.6666666666666666]\n",
      "WINEPIRule: ['D'] ==> ['D', 'B'] [3] [0.5, 0.6666666666666666]\n",
      "WINEPIRule: ['B'] ==> ['D', 'B'] [3] [0.5, 0.6666666666666666]\n",
      "WINEPIRule: ['D'] ==> ['D', 'A'] [3] [0.5, 0.6666666666666666]\n",
      "WINEPIRule: ['A'] ==> ['D', 'A'] [3] [0.5, 0.6666666666666666]\n"
     ]
    }
   ],
   "source": [
    "winepiRules = WinEpiRules(freqItems, suppData, width=3, minConfidence=0.3)\n",
    "ruleList = winepiRules.generateRules()\n",
    "winepiRules.printRules(ruleList)"
   ]
  },
  {
   "cell_type": "code",
   "execution_count": null,
   "outputs": [],
   "source": [],
   "metadata": {
    "collapsed": false,
    "pycharm": {
     "name": "#%%\n"
    }
   }
  }
 ],
 "metadata": {
  "kernelspec": {
   "display_name": "Python 3",
   "language": "python",
   "name": "python3"
  },
  "language_info": {
   "codemirror_mode": {
    "name": "ipython",
    "version": 3
   },
   "file_extension": ".py",
   "mimetype": "text/x-python",
   "name": "python",
   "nbconvert_exporter": "python",
   "pygments_lexer": "ipython3",
   "version": "3.8.2"
  }
 },
 "nbformat": 4,
 "nbformat_minor": 4
}