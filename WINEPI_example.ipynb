{
 "cells": [
  {
   "cell_type": "code",
   "execution_count": 3,
   "metadata": {},
   "outputs": [],
   "source": [
    "import json\n",
    "import time\n",
    "import datetime\n",
    "\n",
    "from episode_mining.winepi import WINEPI, WinEpiRules"
   ]
  },
  {
   "cell_type": "code",
   "execution_count": 4,
   "outputs": [
    {
     "name": "stdout",
     "output_type": "stream",
     "text": [
      "Starting WINEPI\n"
     ]
    },
    {
     "ename": "KeyboardInterrupt",
     "evalue": "",
     "output_type": "error",
     "traceback": [
      "\u001B[0;31m---------------------------------------------------------------------------\u001B[0m",
      "\u001B[0;31mKeyboardInterrupt\u001B[0m                         Traceback (most recent call last)",
      "\u001B[0;32m/tmp/ipykernel_23086/828304407.py\u001B[0m in \u001B[0;36m<module>\u001B[0;34m\u001B[0m\n\u001B[1;32m     49\u001B[0m \u001B[0mprint\u001B[0m\u001B[0;34m(\u001B[0m\u001B[0;34m\"Starting WINEPI\"\u001B[0m\u001B[0;34m)\u001B[0m\u001B[0;34m\u001B[0m\u001B[0;34m\u001B[0m\u001B[0m\n\u001B[1;32m     50\u001B[0m \u001B[0malg\u001B[0m \u001B[0;34m=\u001B[0m \u001B[0mWINEPI\u001B[0m\u001B[0;34m(\u001B[0m\u001B[0msequence\u001B[0m\u001B[0;34m,\u001B[0m \u001B[0mepisode_type\u001B[0m\u001B[0;34m=\u001B[0m\u001B[0;34m'serial'\u001B[0m\u001B[0;34m)\u001B[0m\u001B[0;34m\u001B[0m\u001B[0;34m\u001B[0m\u001B[0m\n\u001B[0;32m---> 51\u001B[0;31m \u001B[0mfreqItems\u001B[0m\u001B[0;34m,\u001B[0m \u001B[0msuppData\u001B[0m \u001B[0;34m=\u001B[0m \u001B[0malg\u001B[0m\u001B[0;34m.\u001B[0m\u001B[0mWinEpi\u001B[0m\u001B[0;34m(\u001B[0m\u001B[0mwidth\u001B[0m\u001B[0;34m=\u001B[0m\u001B[0;36m11\u001B[0m\u001B[0;34m,\u001B[0m \u001B[0mstep\u001B[0m\u001B[0;34m=\u001B[0m\u001B[0;36m1\u001B[0m\u001B[0;34m,\u001B[0m \u001B[0mminFrequent\u001B[0m\u001B[0;34m=\u001B[0m\u001B[0;36m0.05\u001B[0m\u001B[0;34m)\u001B[0m\u001B[0;34m\u001B[0m\u001B[0;34m\u001B[0m\u001B[0m\n\u001B[0m\u001B[1;32m     52\u001B[0m \u001B[0mprint\u001B[0m\u001B[0;34m(\u001B[0m\u001B[0;34m\"Done with WINEPI\"\u001B[0m\u001B[0;34m)\u001B[0m\u001B[0;34m\u001B[0m\u001B[0;34m\u001B[0m\u001B[0m\n\u001B[1;32m     53\u001B[0m \u001B[0mwinepiRules\u001B[0m \u001B[0;34m=\u001B[0m \u001B[0mWinEpiRules\u001B[0m\u001B[0;34m(\u001B[0m\u001B[0mfreqItems\u001B[0m\u001B[0;34m,\u001B[0m \u001B[0msuppData\u001B[0m\u001B[0;34m,\u001B[0m \u001B[0mwidth\u001B[0m\u001B[0;34m=\u001B[0m\u001B[0;36m11\u001B[0m\u001B[0;34m,\u001B[0m \u001B[0mminConfidence\u001B[0m\u001B[0;34m=\u001B[0m\u001B[0;36m0.9\u001B[0m\u001B[0;34m)\u001B[0m\u001B[0;34m\u001B[0m\u001B[0;34m\u001B[0m\u001B[0m\n",
      "\u001B[0;32m~/PycharmProjects/EpisodeMining/episode_mining/winepi.py\u001B[0m in \u001B[0;36mWinEpi\u001B[0;34m(self, width, step, minFrequent)\u001B[0m\n\u001B[1;32m    134\u001B[0m                 \u001B[0mself\u001B[0m\u001B[0;34m.\u001B[0m\u001B[0mminFrequent\u001B[0m \u001B[0;34m=\u001B[0m \u001B[0mminFrequent\u001B[0m\u001B[0;34m\u001B[0m\u001B[0;34m\u001B[0m\u001B[0m\n\u001B[1;32m    135\u001B[0m                 \u001B[0mwindows\u001B[0m \u001B[0;34m=\u001B[0m \u001B[0mself\u001B[0m\u001B[0;34m.\u001B[0m\u001B[0mslidingWindow\u001B[0m\u001B[0;34m(\u001B[0m\u001B[0;34m)\u001B[0m\u001B[0;34m\u001B[0m\u001B[0;34m\u001B[0m\u001B[0m\n\u001B[0;32m--> 136\u001B[0;31m                 \u001B[0mC1\u001B[0m \u001B[0;34m=\u001B[0m \u001B[0mself\u001B[0m\u001B[0;34m.\u001B[0m\u001B[0mcreateC1\u001B[0m\u001B[0;34m(\u001B[0m\u001B[0mwindows\u001B[0m\u001B[0;34m)\u001B[0m\u001B[0;34m\u001B[0m\u001B[0;34m\u001B[0m\u001B[0m\n\u001B[0m\u001B[1;32m    137\u001B[0m                 \u001B[0mL1\u001B[0m\u001B[0;34m,\u001B[0m \u001B[0msupportData\u001B[0m \u001B[0;34m=\u001B[0m \u001B[0mself\u001B[0m\u001B[0;34m.\u001B[0m\u001B[0mscanWindows\u001B[0m\u001B[0;34m(\u001B[0m\u001B[0mwindows\u001B[0m\u001B[0;34m,\u001B[0m \u001B[0mC1\u001B[0m\u001B[0;34m)\u001B[0m\u001B[0;34m\u001B[0m\u001B[0;34m\u001B[0m\u001B[0m\n\u001B[1;32m    138\u001B[0m                 \u001B[0mL\u001B[0m \u001B[0;34m=\u001B[0m \u001B[0;34m[\u001B[0m\u001B[0mL1\u001B[0m\u001B[0;34m]\u001B[0m\u001B[0;34m\u001B[0m\u001B[0;34m\u001B[0m\u001B[0m\n",
      "\u001B[0;32m~/PycharmProjects/EpisodeMining/episode_mining/winepi.py\u001B[0m in \u001B[0;36mcreateC1\u001B[0;34m(self, windows)\u001B[0m\n\u001B[1;32m     41\u001B[0m             \u001B[0;32mfor\u001B[0m \u001B[0mtransaction\u001B[0m \u001B[0;32min\u001B[0m \u001B[0mwindows\u001B[0m\u001B[0;34m:\u001B[0m\u001B[0;34m\u001B[0m\u001B[0;34m\u001B[0m\u001B[0m\n\u001B[1;32m     42\u001B[0m                 \u001B[0;32mfor\u001B[0m \u001B[0mitem\u001B[0m \u001B[0;32min\u001B[0m \u001B[0mtransaction\u001B[0m\u001B[0;34m:\u001B[0m\u001B[0;34m\u001B[0m\u001B[0;34m\u001B[0m\u001B[0m\n\u001B[0;32m---> 43\u001B[0;31m                     \u001B[0;32mif\u001B[0m \u001B[0;32mnot\u001B[0m \u001B[0;34m[\u001B[0m\u001B[0mitem\u001B[0m\u001B[0;34m]\u001B[0m \u001B[0;32min\u001B[0m \u001B[0mC1\u001B[0m\u001B[0;34m:\u001B[0m\u001B[0;34m\u001B[0m\u001B[0;34m\u001B[0m\u001B[0m\n\u001B[0m\u001B[1;32m     44\u001B[0m                         \u001B[0mC1\u001B[0m\u001B[0;34m.\u001B[0m\u001B[0mappend\u001B[0m\u001B[0;34m(\u001B[0m\u001B[0;34m[\u001B[0m\u001B[0mitem\u001B[0m\u001B[0;34m]\u001B[0m\u001B[0;34m)\u001B[0m\u001B[0;34m\u001B[0m\u001B[0;34m\u001B[0m\u001B[0m\n\u001B[1;32m     45\u001B[0m \u001B[0;34m\u001B[0m\u001B[0m\n",
      "\u001B[0;31mKeyboardInterrupt\u001B[0m: "
     ]
    }
   ],
   "source": [
    "def loadTimestampToEventDictFromFile(filePath):\n",
    "    file = open(filePath)\n",
    "    res = json.load(file)\n",
    "    file.close()\n",
    "    timestampToEventDict = {}\n",
    "    keysSorted = sorted(res.keys())\n",
    "    for key in keysSorted:\n",
    "        timestamps = sorted(list(map(lambda x: datetime.datetime.strptime(x, \"%Y-%m-%d\"),res[key])))\n",
    "        for ts in timestamps:\n",
    "            eventList = timestampToEventDict.get(ts)\n",
    "            if eventList is not None:\n",
    "                eventList.append(key)\n",
    "            else:\n",
    "                newList = [key]\n",
    "                timestampToEventDict[ts] = newList\n",
    "    return timestampToEventDict\n",
    "\n",
    "def getTimestampToIntegerDict1DayIncrement(timestampsSorted):\n",
    "    firstTimestamp = timestampsSorted[0]\n",
    "    lastTimestamp = timestampsSorted[-1]\n",
    "    #SOCRATA SPECIFIC: TODO - change this for Wikipedia!\n",
    "    incrementInDays=1\n",
    "    curTimestamp = firstTimestamp\n",
    "    timestampToIntegerDict = {}\n",
    "    curInteger = 0\n",
    "    while curTimestamp != None:\n",
    "        timestampToIntegerDict[curTimestamp] = curInteger\n",
    "        curInteger+=1\n",
    "        if(curTimestamp == lastTimestamp):\n",
    "            curTimestamp = None\n",
    "        else:\n",
    "            curTimestamp = curTimestamp + datetime.timedelta(days=incrementInDays)\n",
    "    return timestampToIntegerDict\n",
    "\n",
    "def getFinalSequence(timestampsSorted,timestampToIntegerDict,timestampToEventDict):\n",
    "    finalList = []\n",
    "    for ts in timestampsSorted:\n",
    "        i = timestampToIntegerDict[ts]\n",
    "        for key in timestampToEventDict[ts]:\n",
    "            finalList.append((i,key))\n",
    "    return finalList\n",
    "\n",
    "#print(timestampToEventDict)\n",
    "timestampToEventDict=loadTimestampToEventDictFromFile('/home/leon/Documents/lehre/ws2021/Master Project/data/column_table_changes_aggregated_grouped.json')\n",
    "timestampsSorted = sorted(timestampToEventDict.keys())\n",
    "timestampToIntegerDict = getTimestampToIntegerDict1DayIncrement(timestampsSorted)\n",
    "sequence = getFinalSequence(timestampsSorted,timestampToIntegerDict,timestampToEventDict)\n",
    "\n",
    "print(\"Starting WINEPI\")\n",
    "alg = WINEPI(sequence, episode_type='serial')\n",
    "freqItems, suppData = alg.WinEpi(width=11, step=1, minFrequent=0.05)\n",
    "print(\"Done with WINEPI\")\n",
    "winepiRules = WinEpiRules(freqItems, suppData, width=11, minConfidence=0.9)\n",
    "ruleList = winepiRules.generateRules()\n",
    "winepiRules.printRules(ruleList)\n",
    "# 0 Alice 24\n",
    "# 1 Bob 50\n",
    "# 2 Charlie 18\n",
    "\n",
    "\n"
   ],
   "metadata": {
    "collapsed": false,
    "pycharm": {
     "name": "#%%\n"
    }
   }
  },
  {
   "cell_type": "code",
   "execution_count": null,
   "metadata": {},
   "outputs": [],
   "source": [
    "sequence = sorted([\n",
    "    (31, 'E'), (31, 'D'), (33, 'F'), (35, 'A'), (37, 'B'), (38, 'C'), (39, 'E'),\n",
    "    (40, 'F'), (42, 'C'), (44, 'D'), (46, 'B'), (47, 'A'), (48, 'D'), (50, 'C'),\n",
    "    (53, 'E'), (54, 'F'), (55, 'C'), (57, 'B'), (58, 'E'), (59, 'A'), (60, 'E'),\n",
    "    (61, 'C'), (62, 'F'), (65, 'A'), (67, 'D'),\n",
    "], key=lambda x:x[0])\n",
    "\n",
    "sequence = sorted([\n",
    "    (31, 'E'), (31, 'D'), (33, 'E'), (33, 'D'), (33, 'E'), (58, 'E'), (58, 'D')\n",
    "], key=lambda x:x[0])"
   ]
  },
  {
   "cell_type": "code",
   "execution_count": null,
   "metadata": {},
   "outputs": [],
   "source": [
    "alg = WINEPI(sequence, episode_type='parallel')\n",
    "freqItems, suppData = alg.WinEpi(width=5, step=1, minFrequent=0.1)"
   ]
  },
  {
   "cell_type": "code",
   "execution_count": null,
   "metadata": {},
   "outputs": [],
   "source": [
    "winepiRules = WinEpiRules(freqItems, suppData, width=5, minConfidence=0.7)\n",
    "ruleList = winepiRules.generateRules()\n",
    "winepiRules.printRules(ruleList)"
   ]
  }
 ],
 "metadata": {
  "kernelspec": {
   "display_name": "Python 3",
   "language": "python",
   "name": "python3"
  },
  "language_info": {
   "codemirror_mode": {
    "name": "ipython",
    "version": 3
   },
   "file_extension": ".py",
   "mimetype": "text/x-python",
   "name": "python",
   "nbconvert_exporter": "python",
   "pygments_lexer": "ipython3",
   "version": "3.8.2"
  }
 },
 "nbformat": 4,
 "nbformat_minor": 4
}